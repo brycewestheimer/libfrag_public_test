{
 "cells": [
  {
   "cell_type": "markdown",
   "id": "d8f4d6ee",
   "metadata": {},
   "source": [
    "# LibFrag Comprehensive Demo: Atom, Bond, and Molecule Classes\n",
    "\n",
    "This notebook demonstrates the complete molecular modeling capabilities of LibFrag, including the Atom, Bond, and Molecule classes designed for quantum chemistry applications and compatibility with MolSSI tools (QCEngine, QCElemental).\n",
    "\n",
    "## Key Features Demonstrated\n",
    "- **Atom class**: Comprehensive atomic properties and quantum data\n",
    "- **Bond class**: Chemical bonds with quantum mechanical properties  \n",
    "- **Molecule class**: Complete molecular systems with connectivity\n",
    "- **QC compatibility**: Direct integration with quantum chemistry software\n",
    "- **Fragment analysis**: Molecular fragmentation for fragment-based methods"
   ]
  },
  {
   "cell_type": "markdown",
   "id": "e675b7bb",
   "metadata": {},
   "source": [
    "# LibFrag Atom Class Demo\n",
    "\n",
    "This notebook demonstrates the comprehensive Atom class in LibFrag, designed for quantum chemistry applications and compatibility with MolSSI tools (QCEngine, QCElemental)."
   ]
  },
  {
   "cell_type": "code",
   "execution_count": null,
   "id": "3e377e9b",
   "metadata": {},
   "outputs": [],
   "source": [
    "import numpy as np\n",
    "import sys\n",
    "import os\n",
    "\n",
    "# Add the build directory to the path (adjust as needed)\n",
    "sys.path.insert(0, os.path.join(os.path.dirname(os.getcwd()), '..', 'build', 'python', 'src'))\n",
    "\n",
    "try:\n",
    "    import _libfrag as libfrag\n",
    "    print(f\"Successfully imported libfrag version {libfrag.__version__}\")\n",
    "except ImportError as e:\n",
    "    print(f\"Failed to import libfrag: {e}\")\n",
    "    print(\"Make sure the library has been built and is in the Python path\")"
   ]
  },
  {
   "cell_type": "markdown",
   "id": "e2f0098e",
   "metadata": {},
   "source": [
    "## Basic Atom Creation\n",
    "\n",
    "The Atom class supports multiple ways to create atoms:"
   ]
  },
  {
   "cell_type": "code",
   "execution_count": null,
   "id": "0a105798",
   "metadata": {},
   "outputs": [],
   "source": [
    "# Create atoms different ways\n",
    "carbon = libfrag.Atom(6, 0.0, 0.0, 0.0)  # From atomic number\n",
    "nitrogen = libfrag.Atom(\"N\", 1.5, 0.0, 0.0)  # From symbol\n",
    "oxygen = libfrag.Atom(8, np.array([0.0, 1.5, 0.0]))  # From numpy array\n",
    "\n",
    "print(f\"Carbon: {carbon}\")\n",
    "print(f\"Nitrogen: {nitrogen}\")\n",
    "print(f\"Oxygen: {oxygen}\")"
   ]
  },
  {
   "cell_type": "markdown",
   "id": "ff133b76",
   "metadata": {},
   "source": [
    "## Atomic Properties\n",
    "\n",
    "Access various atomic properties:"
   ]
  },
  {
   "cell_type": "code",
   "execution_count": null,
   "id": "1831172a",
   "metadata": {},
   "outputs": [],
   "source": [
    "print(f\"Carbon atomic number: {carbon.atomic_number}\")\n",
    "print(f\"Carbon symbol: {carbon.symbol}\")\n",
    "print(f\"Carbon atomic mass: {carbon.atomic_mass} amu\")\n",
    "print(f\"Carbon coordinates: {carbon.coordinates}\")\n",
    "print(f\"Carbon mass number: {carbon.mass_number}\")"
   ]
  },
  {
   "cell_type": "markdown",
   "id": "846c3931",
   "metadata": {},
   "source": [
    "## Quantum Properties\n",
    "\n",
    "The Atom class can store various quantum mechanical properties:"
   ]
  },
  {
   "cell_type": "code",
   "execution_count": null,
   "id": "051e4f54",
   "metadata": {},
   "outputs": [],
   "source": [
    "atom = libfrag.Atom(\"C\", 0.0, 0.0, 0.0)\n",
    "\n",
    "# Set quantum properties\n",
    "atom.set_property(\"mulliken_charge\", -0.123)\n",
    "atom.set_property(\"esp_charge\", -0.145)\n",
    "atom.set_property(\"spin_density\", 0.0)\n",
    "atom.formal_charge = 0.0\n",
    "atom.partial_charge = -0.123\n",
    "atom.multiplicity = 1\n",
    "\n",
    "print(f\"Mulliken charge: {atom.get_property('mulliken_charge')}\")\n",
    "print(f\"ESP charge: {atom.get_property('esp_charge')}\")\n",
    "print(f\"Formal charge: {atom.formal_charge}\")\n",
    "print(f\"All properties: {atom.properties}\")"
   ]
  },
  {
   "cell_type": "markdown",
   "id": "2682f6d4",
   "metadata": {},
   "source": [
    "## Molecular Geometry Calculations\n",
    "\n",
    "Calculate distances and vectors between atoms:"
   ]
  },
  {
   "cell_type": "code",
   "execution_count": null,
   "id": "cd5f983c",
   "metadata": {},
   "outputs": [],
   "source": [
    "# Create a water molecule\n",
    "oxygen = libfrag.Atom(\"O\", 0.0, 0.0, 0.0)\n",
    "hydrogen1 = libfrag.Atom(\"H\", 0.757, 0.586, 0.0)\n",
    "hydrogen2 = libfrag.Atom(\"H\", -0.757, 0.586, 0.0)\n",
    "\n",
    "print(\"Water molecule coordinates:\")\n",
    "print(f\"O: {oxygen.to_xyz_string()}\")\n",
    "print(f\"H: {hydrogen1.to_xyz_string()}\")\n",
    "print(f\"H: {hydrogen2.to_xyz_string()}\")\n",
    "\n",
    "# Calculate distances\n",
    "oh1_distance = oxygen.distance_to(hydrogen1)\n",
    "oh2_distance = oxygen.distance_to(hydrogen2)\n",
    "hh_distance = hydrogen1.distance_to(hydrogen2)\n",
    "\n",
    "print(f\"\\nBond distances (Angstroms):\")\n",
    "print(f\"O-H1: {oh1_distance:.3f}\")\n",
    "print(f\"O-H2: {oh2_distance:.3f}\")\n",
    "print(f\"H1-H2: {hh_distance:.3f}\")"
   ]
  },
  {
   "cell_type": "markdown",
   "id": "106b678a",
   "metadata": {},
   "source": [
    "## QC Software Compatibility\n",
    "\n",
    "The Atom class is designed to work well with quantum chemistry packages:"
   ]
  },
  {
   "cell_type": "code",
   "execution_count": null,
   "id": "38ab2d55",
   "metadata": {},
   "outputs": [],
   "source": [
    "# Unit conversion constants available\n",
    "print(f\"Bohr to Angstrom: {libfrag.BOHR_TO_ANGSTROM}\")\n",
    "print(f\"Hartree to eV: {libfrag.HARTREE_TO_EV}\")\n",
    "\n",
    "# Create a methane molecule\n",
    "atoms = [\n",
    "    libfrag.Atom(\"C\", 0.0, 0.0, 0.0),\n",
    "    libfrag.Atom(\"H\", 1.089, 0.0, 0.0),\n",
    "    libfrag.Atom(\"H\", -0.363, 1.027, 0.0),\n",
    "    libfrag.Atom(\"H\", -0.363, -0.513, 0.889),\n",
    "    libfrag.Atom(\"H\", -0.363, -0.513, -0.889)\n",
    "]\n",
    "\n",
    "print(\"\\nMethane molecule:\")\n",
    "for i, atom in enumerate(atoms):\n",
    "    print(f\"{i}: {atom.to_xyz_string()}\")"
   ]
  },
  {
   "cell_type": "markdown",
   "id": "c00118d4",
   "metadata": {},
   "source": [
    "## QCElemental Compatible Data Structures\n",
    "\n",
    "Convert LibFrag atoms to formats compatible with QCElemental:"
   ]
  },
  {
   "cell_type": "code",
   "execution_count": null,
   "id": "be516fe9",
   "metadata": {},
   "outputs": [],
   "source": [
    "# Create coordinate matrix (useful for QCElemental)\n",
    "geometry_matrix = np.array([atom.coordinates_vector() for atom in atoms])\n",
    "symbols = [atom.symbol for atom in atoms]\n",
    "atomic_numbers = [atom.atomic_number for atom in atoms]\n",
    "masses = [atom.atomic_mass for atom in atoms]\n",
    "\n",
    "print(f\"Geometry matrix shape: {geometry_matrix.shape}\")\n",
    "print(f\"Symbols: {symbols}\")\n",
    "print(f\"Atomic numbers: {atomic_numbers}\")\n",
    "print(f\"Masses: {masses[:3]}...\")  # First 3 masses\n",
    "\n",
    "# This data can be used directly with QCElemental:\n",
    "qcel_data = {\n",
    "    'symbols': symbols,\n",
    "    'geometry': geometry_matrix.flatten(),\n",
    "    'molecular_charge': 0,\n",
    "    'molecular_multiplicity': 1\n",
    "}\n",
    "\n",
    "print(f\"\\nQCElemental compatible data structure created!\")\n",
    "print(f\"Geometry array shape: {qcel_data['geometry'].shape}\")"
   ]
  },
  {
   "cell_type": "markdown",
   "id": "d533dbb6",
   "metadata": {},
   "source": [
    "## Visualization Example\n",
    "\n",
    "Create a simple 3D visualization of the molecule:"
   ]
  },
  {
   "cell_type": "code",
   "execution_count": null,
   "id": "5af1fbb7",
   "metadata": {},
   "outputs": [],
   "source": [
    "import matplotlib.pyplot as plt\n",
    "from mpl_toolkits.mplot3d import Axes3D\n",
    "\n",
    "# Extract coordinates\n",
    "coords = np.array([atom.coordinates_vector() for atom in atoms])\n",
    "colors = ['black' if atom.symbol == 'C' else 'lightblue' for atom in atoms]\n",
    "sizes = [100 if atom.symbol == 'C' else 50 for atom in atoms]\n",
    "\n",
    "# Create 3D plot\n",
    "fig = plt.figure(figsize=(10, 8))\n",
    "ax = fig.add_subplot(111, projection='3d')\n",
    "\n",
    "# Plot atoms\n",
    "ax.scatter(coords[:, 0], coords[:, 1], coords[:, 2], \n",
    "          c=colors, s=sizes, alpha=0.8)\n",
    "\n",
    "# Add labels\n",
    "for i, atom in enumerate(atoms):\n",
    "    ax.text(coords[i, 0], coords[i, 1], coords[i, 2], \n",
    "           f'{atom.symbol}{i}', fontsize=12)\n",
    "\n",
    "ax.set_xlabel('X (Angstrom)')\n",
    "ax.set_ylabel('Y (Angstrom)')\n",
    "ax.set_zlabel('Z (Angstrom)')\n",
    "ax.set_title('Methane Molecule')\n",
    "\n",
    "plt.show()"
   ]
  },
  {
   "cell_type": "markdown",
   "id": "635f6da3",
   "metadata": {},
   "source": [
    "## Summary\n",
    "\n",
    "The LibFrag Atom class provides:\n",
    "\n",
    "1. **Multiple construction methods** - from atomic numbers, symbols, or numpy arrays\n",
    "2. **Comprehensive properties** - atomic data, quantum properties, charges\n",
    "3. **Geometric calculations** - distances, vectors between atoms\n",
    "4. **QC software compatibility** - designed for QCEngine/QCElemental integration\n",
    "5. **Flexible data access** - various output formats for different use cases\n",
    "\n",
    "This makes it ideal for quantum chemistry workflows and MolSSI tool integration!"
   ]
  },
  {
   "cell_type": "markdown",
   "id": "b75ec319",
   "metadata": {},
   "source": [
    "## Bond Class Demonstration\n",
    "\n",
    "The Bond class represents chemical bonds between atoms with comprehensive quantum mechanical properties."
   ]
  },
  {
   "cell_type": "code",
   "execution_count": null,
   "id": "e48e7cea",
   "metadata": {},
   "outputs": [],
   "source": [
    "# Create atoms for bonding\n",
    "carbon = libfrag.Atom(6, 0.0, 0.0, 0.0)\n",
    "hydrogen = libfrag.Atom(\"H\", 1.089, 0.0, 0.0)\n",
    "nitrogen = libfrag.Atom(\"N\", 0.0, 1.5, 0.0)\n",
    "\n",
    "# Create different types of bonds\n",
    "ch_bond = libfrag.Bond(carbon, hydrogen, libfrag.BondType.SINGLE)\n",
    "cn_bond = libfrag.Bond(carbon, nitrogen, 1.5)  # Partial double bond\n",
    "\n",
    "print(f\"C-H bond: {ch_bond}\")\n",
    "print(f\"C-N bond: {cn_bond}\")\n",
    "print(f\"C-H bond length: {ch_bond.bond_length:.3f} Angstroms\")\n",
    "print(f\"C-H is polar: {ch_bond.is_polar_bond()}\")\n",
    "\n",
    "# Set quantum properties\n",
    "ch_bond.set_property(\"wiberg_bond_order\", 0.98)\n",
    "ch_bond.bond_strength = 413.0  # kcal/mol\n",
    "\n",
    "print(f\"Wiberg bond order: {ch_bond.get_property('wiberg_bond_order')}\")\n",
    "print(f\"Bond strength: {ch_bond.bond_strength} kcal/mol\")"
   ]
  },
  {
   "cell_type": "markdown",
   "id": "dfc17b4c",
   "metadata": {},
   "source": [
    "## Molecule Class Demonstration\n",
    "\n",
    "The Molecule class manages complete molecular systems with atoms and bonds, providing powerful analysis capabilities."
   ]
  },
  {
   "cell_type": "code",
   "execution_count": null,
   "id": "8920b346",
   "metadata": {},
   "outputs": [],
   "source": [
    "# Create water molecule from atoms and bonds\n",
    "water_atoms = [\n",
    "    libfrag.Atom(\"O\", 0.0, 0.0, 0.0),\n",
    "    libfrag.Atom(\"H\", 0.757, 0.586, 0.0),\n",
    "    libfrag.Atom(\"H\", -0.757, 0.586, 0.0)\n",
    "]\n",
    "\n",
    "# Define connectivity (atom index pairs)\n",
    "water_bonds = [(0, 1), (0, 2)]  # O-H bonds\n",
    "bond_types = [libfrag.BondType.SINGLE, libfrag.BondType.SINGLE]\n",
    "\n",
    "water = libfrag.Molecule(water_atoms, water_bonds, bond_types)\n",
    "print(f\"Water molecule: {water}\")\n",
    "print(f\"Molecular mass: {water.molecular_mass():.3f} amu\")\n",
    "print(f\"Center of mass: {water.center_of_mass()}\")\n",
    "print(f\"Is connected: {water.is_connected()}\")\n",
    "\n",
    "# Molecular properties for QC calculations\n",
    "water.molecular_multiplicity = 1\n",
    "water.set_property(\"total_energy\", -76.241234)\n",
    "print(f\"Total energy: {water.get_property('total_energy')} hartrees\")"
   ]
  },
  {
   "cell_type": "markdown",
   "id": "b3030d57",
   "metadata": {},
   "source": [
    "## Advanced QC Integration\n",
    "\n",
    "Demonstrate compatibility with quantum chemistry software packages."
   ]
  }
 ],
 "metadata": {
  "language_info": {
   "name": "python"
  }
 },
 "nbformat": 4,
 "nbformat_minor": 5
}
