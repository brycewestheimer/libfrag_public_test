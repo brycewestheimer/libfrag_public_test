{
 "cells": [
  {
   "cell_type": "markdown",
   "id": "87b12d10",
   "metadata": {},
   "source": [
    "# Fragment Class Demo\n",
    "\n",
    "This notebook demonstrates the usage of the Fragment class in libfrag, which extends the Molecule class with fragment-specific functionality using the composite design pattern."
   ]
  },
  {
   "cell_type": "code",
   "execution_count": null,
   "id": "a19c1382",
   "metadata": {},
   "outputs": [],
   "source": [
    "# Import the libfrag module\n",
    "import libfrag\n",
    "import numpy as np"
   ]
  },
  {
   "cell_type": "markdown",
   "id": "60780488",
   "metadata": {},
   "source": [
    "## Creating Basic Fragments\n",
    "\n",
    "Let's start by creating some basic fragments with atoms and bonds."
   ]
  },
  {
   "cell_type": "code",
   "execution_count": null,
   "id": "ccaf44e0",
   "metadata": {},
   "outputs": [],
   "source": [
    "# Create atoms for a methane molecule\n",
    "carbon = libfrag.Atom(6, 0.0, 0.0, 0.0)  # Carbon at origin\n",
    "h1 = libfrag.Atom(1, 1.1, 0.0, 0.0)     # Hydrogen\n",
    "h2 = libfrag.Atom(1, -0.5, 0.9, 0.0)    # Hydrogen\n",
    "h3 = libfrag.Atom(1, -0.5, -0.9, 0.0)   # Hydrogen\n",
    "h4 = libfrag.Atom(1, 0.0, 0.0, 1.1)     # Hydrogen\n",
    "\n",
    "methane_atoms = [carbon, h1, h2, h3, h4]\n",
    "\n",
    "print(f\"Created {len(methane_atoms)} atoms for methane\")\n",
    "for i, atom in enumerate(methane_atoms):\n",
    "    print(f\"  Atom {i}: {atom.symbol} at ({atom.x:.1f}, {atom.y:.1f}, {atom.z:.1f})\")"
   ]
  },
  {
   "cell_type": "code",
   "execution_count": null,
   "id": "f7c3dc84",
   "metadata": {},
   "outputs": [],
   "source": [
    "# Create bond connectivity for methane (C-H bonds)\n",
    "bond_connectivity = [(0, 1), (0, 2), (0, 3), (0, 4)]  # Carbon bonded to all hydrogens\n",
    "\n",
    "# Create the fragment\n",
    "methane_fragment = libfrag.Fragment(methane_atoms, bond_connectivity, \"methane_frag\")\n",
    "\n",
    "print(f\"Created fragment '{methane_fragment.fragment_id}'\")\n",
    "print(f\"  Atoms: {methane_fragment.atom_count}\")\n",
    "print(f\"  Bonds: {methane_fragment.bond_count}\")\n",
    "print(f\"  Generation level: {methane_fragment.generation_level}\")\n",
    "print(f\"  Is root fragment: {methane_fragment.is_root_fragment()}\")"
   ]
  },
  {
   "cell_type": "markdown",
   "id": "0d78bffe",
   "metadata": {},
   "source": [
    "## Fragment Properties and Composition"
   ]
  },
  {
   "cell_type": "code",
   "execution_count": null,
   "id": "7a4c37cf",
   "metadata": {},
   "outputs": [],
   "source": [
    "# Calculate fragment properties\n",
    "properties = methane_fragment.calculate_fragment_properties()\n",
    "\n",
    "print(\"Fragment Properties:\")\n",
    "for prop_name, prop_value in properties.items():\n",
    "    print(f\"  {prop_name}: {prop_value}\")"
   ]
  },
  {
   "cell_type": "code",
   "execution_count": null,
   "id": "9d82566b",
   "metadata": {},
   "outputs": [],
   "source": [
    "# Get fragment composition (element counts)\n",
    "composition = methane_fragment.fragment_composition()\n",
    "\n",
    "print(\"Fragment Composition:\")\n",
    "for element, count in composition.items():\n",
    "    print(f\"  {element}: {count}\")\n",
    "\n",
    "# Calculate molecular mass\n",
    "print(f\"\\\\nMolecular mass: {methane_fragment.molecular_mass:.2f} amu\\\")"
   ]
  },
  {
   "cell_type": "markdown",
   "id": "8d4e10ef",
   "metadata": {},
   "source": [
    "## Creating Complex Molecules for Fragmentation\n",
    "\n",
    "Let's create a larger molecule with multiple disconnected components to demonstrate fragmentation."
   ]
  },
  {
   "cell_type": "code",
   "execution_count": null,
   "id": "9ba2ffd0",
   "metadata": {},
   "outputs": [],
   "source": [
    "# Create a molecule with methane + water (disconnected)\n",
    "complex_atoms = [\n",
    "    # Methane part\n",
    "    libfrag.Atom(6, 0.0, 0.0, 0.0),    # Carbon\n",
    "    libfrag.Atom(1, 1.1, 0.0, 0.0),    # H1\n",
    "    libfrag.Atom(1, -0.5, 0.9, 0.0),   # H2\n",
    "    libfrag.Atom(1, -0.5, -0.9, 0.0),  # H3\n",
    "    \n",
    "    # Water part (disconnected from methane)\n",
    "    libfrag.Atom(8, 5.0, 0.0, 0.0),    # Oxygen\n",
    "    libfrag.Atom(1, 5.5, 0.8, 0.0),    # H4\n",
    "    libfrag.Atom(1, 5.5, -0.8, 0.0),   # H5\n",
    "]\n",
    "\n",
    "complex_bonds = [\n",
    "    (0, 1), (0, 2), (0, 3),  # Methane bonds\n",
    "    (4, 5), (4, 6)           # Water bonds\n",
    "]\n",
    "\n",
    "complex_fragment = libfrag.Fragment(complex_atoms, complex_bonds, \"complex_molecule\")\n",
    "\n",
    "print(f\"Created complex fragment with {complex_fragment.atom_count()} atoms and {complex_fragment.bond_count()} bonds\")\n",
    "print(f\"Is connected: {complex_fragment.is_connected()}\")"
   ]
  },
  {
   "cell_type": "markdown",
   "id": "96bb12cb",
   "metadata": {},
   "source": [
    "## Fragment Splitting by Connectivity\n",
    "\n",
    "Now let's split the complex molecule into subfragments based on connectivity."
   ]
  },
  {
   "cell_type": "code",
   "execution_count": null,
   "id": "28d39c47",
   "metadata": {},
   "outputs": [],
   "source": [
    "# Fragment by connectivity (should separate methane and water)\n",
    "subfragments = complex_fragment.fragment_by_connectivity()\n",
    "\n",
    "print(f\"Fragmentation created {len(subfragments)} subfragments:\")\n",
    "print(f\"Parent fragment now has {complex_fragment.subfragment_count()} direct subfragments\")\n",
    "\n",
    "for i, subfrag in enumerate(subfragments):\n",
    "    composition = subfrag.fragment_composition()\n",
    "    comp_str = \", \".join([f\"{elem}{count}\" for elem, count in composition.items()])\n",
    "    \n",
    "    print(f\"  Subfragment {i}: ID='{subfrag.fragment_id()}'\")\n",
    "    print(f\"    Atoms: {subfrag.atom_count()}, Bonds: {subfrag.bond_count()}\")\n",
    "    print(f\"    Composition: {comp_str}\")\n",
    "    print(f\"    Generation level: {subfrag.generation_level()}\")"
   ]
  },
  {
   "cell_type": "markdown",
   "id": "bfc8b5fa",
   "metadata": {},
   "source": [
    "## Fragment Tree Visualization"
   ]
  },
  {
   "cell_type": "code",
   "execution_count": null,
   "id": "6832418a",
   "metadata": {},
   "outputs": [],
   "source": [
    "# Display the fragment tree structure\n",
    "print(\"Fragment Tree Structure:\")\n",
    "print(complex_fragment.to_tree_string())"
   ]
  },
  {
   "cell_type": "markdown",
   "id": "3f7751e8",
   "metadata": {},
   "source": [
    "## Inter-Fragment Links\n",
    "\n",
    "Fragments can be linked to other fragments to represent covalent bonds that cross fragment boundaries."
   ]
  },
  {
   "cell_type": "code",
   "execution_count": null,
   "id": "21730239",
   "metadata": {},
   "outputs": [],
   "source": [
    "if len(subfragments) >= 2:\n",
    "    # Create a link between the first two subfragments\n",
    "    frag1_id = subfragments[0].fragment_id\n",
    "    frag2_id = subfragments[1].fragment_id\n",
    "    \n",
    "    # Create a hypothetical bond between atom 0 of frag1 and atom 0 of frag2\n",
    "    fragment_link = libfrag.FragmentLink(\n",
    "        frag1_id, frag2_id,\n",
    "        0, 0,  # Connect first atoms of each fragment\n",
    "        libfrag.BondType.SINGLE,\n",
    "        1.0  # Bond order\n",
    "    )\n",
    "    \n",
    "    # Add the link to the first fragment\n",
    "    subfragments[0].add_fragment_link(fragment_link)\n",
    "    \n",
    "    print(f\"Added link: {fragment_link.to_string()}\")\n",
    "    print(f\"Fragment '{frag1_id}' is now linked to: {list(subfragments[0].linked_fragment_ids)}\")\n",
    "    print(f\"Is '{frag1_id}' linked to '{frag2_id}'? {subfragments[0].is_linked_to(frag2_id)}\")"
   ]
  },
  {
   "cell_type": "markdown",
   "id": "60ec3d28",
   "metadata": {},
   "source": [
    "## Fragment Factory Methods\n",
    "\n",
    "The Fragment class provides static factory methods for convenient creation."
   ]
  },
  {
   "cell_type": "code",
   "execution_count": null,
   "id": "e7194f4a",
   "metadata": {},
   "outputs": [],
   "source": [
    "# Create a simple molecule first\n",
    "simple_molecule = libfrag.Molecule(methane_atoms)\n",
    "\n",
    "# Use factory method to create fragment from molecule\n",
    "fragment_from_molecule = libfrag.Fragment.create_from_molecule(simple_molecule, \"factory_test\")\n",
    "\n",
    "print(f\"Created fragment from molecule: '{fragment_from_molecule.fragment_id()}'\")\n",
    "print(f\"  Atoms: {fragment_from_molecule.atom_count()}\")\n",
    "print(f\"  Is root: {fragment_from_molecule.is_root_fragment()}\")"
   ]
  },
  {
   "cell_type": "code",
   "execution_count": null,
   "id": "8a90a6a1",
   "metadata": {},
   "outputs": [],
   "source": [
    "# Create hierarchical fragmentation with size limit\n",
    "large_molecule = libfrag.Molecule(complex_atoms)\n",
    "hierarchical_fragment = libfrag.Fragment.create_fragment_hierarchy(\n",
    "    large_molecule, \n",
    "    max_fragment_size=3,  # Max 3 atoms per fragment\n",
    "    id_prefix=\"hierarchy\"\n",
    ")\n",
    "\n",
    "print(f\"Created hierarchical fragment: '{hierarchical_fragment.fragment_id()}'\")\n",
    "print(f\"  Total atoms: {hierarchical_fragment.atom_count()}\")\n",
    "print(f\"  Direct subfragments: {hierarchical_fragment.subfragment_count()}\")\n",
    "print(f\"  Total atoms in tree: {hierarchical_fragment.total_atom_count()}\")\n",
    "\n",
    "print(\"\\nHierarchical structure:\")\n",
    "print(hierarchical_fragment.to_tree_string())"
   ]
  },
  {
   "cell_type": "markdown",
   "id": "4cf6fd49",
   "metadata": {},
   "source": [
    "## Advanced Fragmentation Methods\n",
    "\n",
    "The Fragment class supports different fragmentation strategies."
   ]
  },
  {
   "cell_type": "code",
   "execution_count": null,
   "id": "b44a9ad0",
   "metadata": {},
   "outputs": [],
   "source": [
    "# Fragment by size (divide into roughly equal pieces)\n",
    "size_fragment = libfrag.Fragment(complex_atoms, complex_bonds, \"size_test\")\n",
    "size_subfragments = size_fragment.fragment_by_size(target_fragment_count=3)\n",
    "\n",
    "print(f\"Size-based fragmentation created {len(size_subfragments)} subfragments:\")\n",
    "for i, subfrag in enumerate(size_subfragments):\n",
    "    print(f\"  Subfragment {i}: {subfrag.atom_count()} atoms\")"
   ]
  },
  {
   "cell_type": "code",
   "execution_count": null,
   "id": "38cf9252",
   "metadata": {},
   "outputs": [],
   "source": [
    "# Custom fragmentation function\n",
    "def custom_fragmenter(fragment):\n",
    "    \"\"\"Custom function that groups atoms by element type\"\"\"\n",
    "    carbon_atoms = []\n",
    "    hydrogen_atoms = []\n",
    "    other_atoms = []\n",
    "    \n",
    "    for i in range(fragment.atom_count()):\n",
    "        atom = fragment.atom(i)\n",
    "        if atom.atomic_number() == 6:  # Carbon\n",
    "            carbon_atoms.append(i)\n",
    "        elif atom.atomic_number() == 1:  # Hydrogen\n",
    "            hydrogen_atoms.append(i)\n",
    "        else:\n",
    "            other_atoms.append(i)\n",
    "    \n",
    "    groups = []\n",
    "    if carbon_atoms:\n",
    "        groups.append(carbon_atoms)\n",
    "    if hydrogen_atoms:\n",
    "        groups.append(hydrogen_atoms)\n",
    "    if other_atoms:\n",
    "        groups.append(other_atoms)\n",
    "    \n",
    "    return groups\n",
    "\n",
    "# Apply custom fragmentation\n",
    "custom_fragment = libfrag.Fragment(complex_atoms, complex_bonds, \"custom_test\")\n",
    "custom_subfragments = custom_fragment.fragment_by_custom_function(custom_fragmenter)\n",
    "\n",
    "print(f\"Custom fragmentation created {len(custom_subfragments)} subfragments:\")\n",
    "for i, subfrag in enumerate(custom_subfragments):\n",
    "    composition = subfrag.fragment_composition()\n",
    "    comp_str = \", \".join([f\"{elem}{count}\" for elem, count in composition.items()])\n",
    "    print(f\"  Subfragment {i}: {comp_str}\")"
   ]
  },
  {
   "cell_type": "markdown",
   "id": "2e488bb5",
   "metadata": {},
   "source": [
    "## Fragment Analysis and Comparison"
   ]
  },
  {
   "cell_type": "code",
   "execution_count": null,
   "id": "36a0e50c",
   "metadata": {},
   "outputs": [],
   "source": [
    "# Generate fragment hashes for comparison\n",
    "hash1 = methane_fragment.fragment_hash()\n",
    "hash2 = fragment_from_molecule.fragment_hash()\n",
    "\n",
    "print(f\"Methane fragment hash: {hash1}\")\n",
    "print(f\"Factory fragment hash: {hash2}\")\n",
    "print(f\"Hashes match: {hash1 == hash2}\")\n",
    "\n",
    "# Compare fragments\n",
    "print(f\"\\nFragments are equal: {methane_fragment == fragment_from_molecule}\")"
   ]
  },
  {
   "cell_type": "code",
   "execution_count": null,
   "id": "56a8fd6a",
   "metadata": {},
   "outputs": [],
   "source": [
    "# Get detailed fragment information\n",
    "print(\"Detailed fragment information:\")\n",
    "print(methane_fragment.to_fragment_string())"
   ]
  },
  {
   "cell_type": "markdown",
   "id": "c21c163a",
   "metadata": {},
   "source": [
    "## Summary\n",
    "\n",
    "The Fragment class provides:\n",
    "\n",
    "1. **Inheritance from Molecule**: All molecular functionality is available\n",
    "2. **Composite Pattern**: Hierarchical fragment organization with parent-child relationships\n",
    "3. **Fragment Links**: Management of inter-fragment covalent bonds\n",
    "4. **Multiple Fragmentation Strategies**: By connectivity, size, bond breaking, or custom functions\n",
    "5. **Fragment Analysis**: Properties calculation, composition analysis, and comparison tools\n",
    "6. **Factory Methods**: Convenient creation from molecules with automatic fragmentation\n",
    "\n",
    "This makes it ideal for molecular fragmentation analysis in quantum chemistry applications."
   ]
  }
 ],
 "metadata": {
  "language_info": {
   "name": "python"
  }
 },
 "nbformat": 4,
 "nbformat_minor": 5
}
