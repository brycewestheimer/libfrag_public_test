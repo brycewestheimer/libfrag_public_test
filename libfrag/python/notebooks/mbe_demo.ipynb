{
 "cells": [
  {
   "cell_type": "markdown",
   "id": "662c3d8a",
   "metadata": {},
   "source": [
    "# Many-Body Expansion with libfrag\n",
    "\n",
    "This notebook demonstrates the Many-Body Expansion (MBE) functionality in libfrag for fragment-based quantum chemistry calculations."
   ]
  },
  {
   "cell_type": "code",
   "execution_count": null,
   "id": "8b1413b7",
   "metadata": {},
   "outputs": [],
   "source": [
    "# Import required modules\n",
    "import numpy as np\n",
    "import matplotlib.pyplot as plt\n",
    "import libfrag\n",
    "from libfrag.mbe import *"
   ]
  },
  {
   "cell_type": "markdown",
   "id": "924403e0",
   "metadata": {},
   "source": [
    "## 1. Creating a Molecular System\n",
    "\n",
    "Let's start by creating a water dimer system to demonstrate MBE calculations."
   ]
  },
  {
   "cell_type": "code",
   "execution_count": null,
   "id": "71d0b78c",
   "metadata": {},
   "outputs": [],
   "source": [
    "# Create water dimer atoms\n",
    "atoms = [\n",
    "    # Water molecule 1\n",
    "    libfrag.Atom(\"O\", 0.000,  0.000,  0.000),\n",
    "    libfrag.Atom(\"H\", 0.757,  0.587,  0.000),\n",
    "    libfrag.Atom(\"H\", -0.757, 0.587,  0.000),\n",
    "    \n",
    "    # Water molecule 2 (3 Å away)\n",
    "    libfrag.Atom(\"O\", 3.000,  0.000,  0.000),\n",
    "    libfrag.Atom(\"H\", 3.757,  0.587,  0.000),\n",
    "    libfrag.Atom(\"H\", 2.243,  0.587,  0.000)\n",
    "]\n",
    "\n",
    "molecule = libfrag.Molecule(atoms)\n",
    "print(f\"Created water dimer with {len(molecule)} atoms\")\n",
    "print(f\"Molecular formula: {molecule.formula()}\")"
   ]
  },
  {
   "cell_type": "markdown",
   "id": "75a98ea5",
   "metadata": {},
   "source": [
    "## 2. Configuring MBE Calculations\n",
    "\n",
    "Configure the MBE calculation with different settings and fragmentation schemes."
   ]
  },
  {
   "cell_type": "code",
   "execution_count": null,
   "id": "522c63ac",
   "metadata": {},
   "outputs": [],
   "source": [
    "# Create basic 2-body MBE configuration\n",
    "config_2body = MBEConfig.default_2body()\n",
    "config_2body.set_qm_method(\"HF\")\n",
    "config_2body.set_basis_set(\"6-31G*\")\n",
    "config_2body.set_fragmentation_scheme(FragmentationScheme.MOLECULAR)\n",
    "\n",
    "print(\"2-body MBE Configuration:\")\n",
    "print(config_2body.to_string())"
   ]
  },
  {
   "cell_type": "code",
   "execution_count": null,
   "id": "95d13b67",
   "metadata": {},
   "outputs": [],
   "source": [
    "# Create 3-body configuration for comparison\n",
    "config_3body = MBEConfig.default_3body()\n",
    "config_3body.set_qm_method(\"B3LYP\")\n",
    "config_3body.set_basis_set(\"def2-TZVP\")\n",
    "config_3body.set_distance_cutoff(5.0)  # Only consider fragments within 5 Å\n",
    "\n",
    "print(\"3-body MBE Configuration:\")\n",
    "print(config_3body.to_string())"
   ]
  },
  {
   "cell_type": "markdown",
   "id": "2d4c87bf",
   "metadata": {},
   "source": [
    "## 3. Fragment Generation Analysis\n",
    "\n",
    "Analyze how many fragment combinations will be generated for different configurations."
   ]
  },
  {
   "cell_type": "code",
   "execution_count": null,
   "id": "1f2a593d",
   "metadata": {},
   "outputs": [],
   "source": [
    "# Create fragment generator\n",
    "generator = MBEFragmentGenerator(config_2body)\n",
    "\n",
    "# Estimate combinations for different system sizes\n",
    "fragment_counts = []\n",
    "orders = range(1, 5)\n",
    "n_fragments_list = [2, 5, 10, 20]\n",
    "\n",
    "print(\"Estimated number of fragment combinations:\")\n",
    "print(f\"{'N-fragments':<12} {'1-body':<8} {'2-body':<8} {'3-body':<8} {'4-body':<8}\")\n",
    "print(\"-\" * 50)\n",
    "\n",
    "for n_fragments in n_fragments_list:\n",
    "    row = [str(n_fragments)]\n",
    "    for order in orders:\n",
    "        n_combinations = generator.estimate_combinations(n_fragments, order)\n",
    "        row.append(str(n_combinations))\n",
    "    print(f\"{row[0]:<12} {row[1]:<8} {row[2]:<8} {row[3]:<8} {row[4]:<8}\")"
   ]
  },
  {
   "cell_type": "code",
   "execution_count": null,
   "id": "16dad89d",
   "metadata": {},
   "outputs": [],
   "source": [
    "# Visualize scaling of combinations\n",
    "n_fragments_range = range(2, 21)\n",
    "combinations_2body = [generator.estimate_combinations(n, 2) for n in n_fragments_range]\n",
    "combinations_3body = [generator.estimate_combinations(n, 3) for n in n_fragments_range]\n",
    "\n",
    "plt.figure(figsize=(10, 6))\n",
    "plt.semilogy(n_fragments_range, combinations_2body, 'o-', label='2-body', linewidth=2)\n",
    "plt.semilogy(n_fragments_range, combinations_3body, 's-', label='3-body', linewidth=2)\n",
    "plt.xlabel('Number of Fragments')\n",
    "plt.ylabel('Number of Combinations (log scale)')\n",
    "plt.title('MBE Computational Scaling')\n",
    "plt.legend()\n",
    "plt.grid(True, alpha=0.3)\n",
    "plt.show()"
   ]
  },
  {
   "cell_type": "markdown",
   "id": "2363fccd",
   "metadata": {},
   "source": [
    "## 4. Mock MBE Results Analysis\n",
    "\n",
    "Since we don't have a QM calculator connected, let's create mock results to demonstrate the analysis capabilities."
   ]
  },
  {
   "cell_type": "code",
   "execution_count": null,
   "id": "e656e4d1",
   "metadata": {},
   "outputs": [],
   "source": [
    "# Create MBE results container\n",
    "results = MBEResults(config_2body)\n",
    "\n",
    "# Add mock 1-body results (individual water molecules)\n",
    "for i in range(2):\n",
    "    fragment_result = FragmentCalculationResult([i], 1)\n",
    "    fragment_result.fragment_id = f\"water_{i+1}\"\n",
    "    fragment_result.total_energy = -76.2 + np.random.normal(0, 0.001)  # Mock HF/6-31G* water energy\n",
    "    fragment_result.qm_method = \"HF\"\n",
    "    fragment_result.basis_set = \"6-31G*\"\n",
    "    fragment_result.converged = True\n",
    "    fragment_result.computation_time = np.random.uniform(5, 15)  # seconds\n",
    "    results.add_fragment_result(fragment_result)\n",
    "\n",
    "# Add mock 2-body result (water dimer interaction)\n",
    "dimer_result = FragmentCalculationResult([0, 1], 2)\n",
    "dimer_result.fragment_id = \"water_dimer\"\n",
    "dimer_result.total_energy = -152.41  # Total dimer energy\n",
    "dimer_result.qm_method = \"HF\"\n",
    "dimer_result.basis_set = \"6-31G*\"\n",
    "dimer_result.converged = True\n",
    "dimer_result.computation_time = 45.0  # seconds\n",
    "results.add_fragment_result(dimer_result)\n",
    "\n",
    "print(f\"Added {results.n_calculations()} fragment calculations\")\n",
    "print(f\"Total MBE energy: {results.total_energy():.6f} Hartree\")"
   ]
  },
  {
   "cell_type": "code",
   "execution_count": null,
   "id": "17851492",
   "metadata": {},
   "outputs": [],
   "source": [
    "# Analyze energy contributions\n",
    "print(\"Energy Decomposition:\")\n",
    "print(results.energy_decomposition_table())\n",
    "\n",
    "# Calculate interaction energy\n",
    "e_1body_total = sum(results.fragment_energies())\n",
    "e_2body_total = results.energy_contribution(2)\n",
    "interaction_energy = e_2body_total - e_1body_total\n",
    "\n",
    "print(f\"\\nInteraction Analysis:\")\n",
    "print(f\"Sum of monomers: {e_1body_total:.6f} Hartree\")\n",
    "print(f\"Dimer total:     {e_2body_total:.6f} Hartree\")\n",
    "print(f\"Interaction:     {interaction_energy:.6f} Hartree\")\n",
    "print(f\"Interaction:     {interaction_energy * 627.5:.2f} kcal/mol\")"
   ]
  },
  {
   "cell_type": "code",
   "execution_count": null,
   "id": "eec6fc09",
   "metadata": {},
   "outputs": [],
   "source": [
    "# Visualize energy contributions\n",
    "contributions = results.energy_contributions()\n",
    "orders = list(contributions.keys())\n",
    "energies = list(contributions.values())\n",
    "\n",
    "plt.figure(figsize=(8, 6))\n",
    "plt.bar(orders, energies, alpha=0.7, color=['blue', 'orange'])\n",
    "plt.xlabel('N-body Order')\n",
    "plt.ylabel('Energy Contribution (Hartree)')\n",
    "plt.title('MBE Energy Decomposition')\n",
    "plt.xticks(orders)\n",
    "plt.grid(True, alpha=0.3)\n",
    "\n",
    "# Add value labels on bars\n",
    "for i, (order, energy) in enumerate(zip(orders, energies)):\n",
    "    plt.text(order, energy + 0.5, f'{energy:.3f}', ha='center', va='bottom')\n",
    "\n",
    "plt.tight_layout()\n",
    "plt.show()"
   ]
  },
  {
   "cell_type": "markdown",
   "id": "449e8e41",
   "metadata": {},
   "source": [
    "## 5. Performance Analysis\n",
    "\n",
    "Analyze computational performance and timing."
   ]
  },
  {
   "cell_type": "code",
   "execution_count": null,
   "id": "23637b1d",
   "metadata": {},
   "outputs": [],
   "source": [
    "# Performance statistics\n",
    "perf_stats = results.performance_statistics()\n",
    "\n",
    "print(\"Performance Statistics:\")\n",
    "for metric, value in perf_stats.items():\n",
    "    if 'time' in metric:\n",
    "        print(f\"{metric}: {value:.2f} seconds\")\n",
    "    else:\n",
    "        print(f\"{metric}: {value}\")"
   ]
  },
  {
   "cell_type": "code",
   "execution_count": null,
   "id": "2e82f329",
   "metadata": {},
   "outputs": [],
   "source": [
    "# Timing breakdown by order\n",
    "orders = range(1, results.max_order() + 1)\n",
    "times_by_order = [results.computation_time_by_order(order) for order in orders]\n",
    "\n",
    "plt.figure(figsize=(8, 5))\n",
    "plt.bar(orders, times_by_order, alpha=0.7, color='green')\n",
    "plt.xlabel('N-body Order')\n",
    "plt.ylabel('Computation Time (seconds)')\n",
    "plt.title('Computation Time by N-body Order')\n",
    "plt.xticks(orders)\n",
    "plt.grid(True, alpha=0.3)\n",
    "plt.tight_layout()\n",
    "plt.show()"
   ]
  },
  {
   "cell_type": "markdown",
   "id": "3609fc2a",
   "metadata": {},
   "source": [
    "## 6. Export and Reporting\n",
    "\n",
    "Demonstrate various export formats and reporting capabilities."
   ]
  },
  {
   "cell_type": "code",
   "execution_count": null,
   "id": "19fd00f0",
   "metadata": {},
   "outputs": [],
   "source": [
    "# Generate comprehensive summary report\n",
    "print(\"=== MBE Calculation Summary ===\")\n",
    "print(results.summary_report())"
   ]
  },
  {
   "cell_type": "code",
   "execution_count": null,
   "id": "f2980b00",
   "metadata": {},
   "outputs": [],
   "source": [
    "# JSON export (formatted for display)\n",
    "import json\n",
    "\n",
    "json_data = json.loads(results.to_json())\n",
    "print(\"JSON Export:\")\n",
    "print(json.dumps(json_data, indent=2))"
   ]
  },
  {
   "cell_type": "code",
   "execution_count": null,
   "id": "44eaf2f1",
   "metadata": {},
   "outputs": [],
   "source": [
    "# CSV export for spreadsheet analysis\n",
    "csv_data = results.to_csv()\n",
    "print(\"CSV Export:\")\n",
    "print(csv_data)\n",
    "\n",
    "# Save to file\n",
    "with open('mbe_results.csv', 'w') as f:\n",
    "    f.write(csv_data)\n",
    "print(\"\\nResults saved to 'mbe_results.csv'\")"
   ]
  },
  {
   "cell_type": "markdown",
   "id": "ff4e382e",
   "metadata": {},
   "source": [
    "## 7. Advanced Configuration Examples\n",
    "\n",
    "Demonstrate advanced configuration options and custom fragmentation."
   ]
  },
  {
   "cell_type": "code",
   "execution_count": null,
   "id": "6a041005",
   "metadata": {},
   "outputs": [],
   "source": [
    "# Custom fragmentation scheme\n",
    "custom_config = MBEConfig(3, FragmentationScheme.CUSTOM)\n",
    "\n",
    "# Define fragments manually (atom indices)\n",
    "custom_fragments = [\n",
    "    [0, 1, 2],  # First water molecule\n",
    "    [3, 4, 5]   # Second water molecule\n",
    "]\n",
    "\n",
    "custom_config.set_custom_fragments(custom_fragments)\n",
    "custom_config.set_qm_method(\"B3LYP\")\n",
    "custom_config.set_basis_set(\"def2-TZVP\")\n",
    "custom_config.set_distance_cutoff(6.0)\n",
    "custom_config.set_energy_threshold(1e-5)\n",
    "custom_config.set_charge_embedding(True)\n",
    "\n",
    "# Add QM software options\n",
    "qm_options = {\n",
    "    \"scf_convergence\": \"1e-8\",\n",
    "    \"grid\": \"ultrafine\",\n",
    "    \"integral_threshold\": \"1e-12\"\n",
    "}\n",
    "custom_config.set_qm_options(qm_options)\n",
    "\n",
    "print(\"Custom Configuration:\")\n",
    "print(custom_config.to_string())"
   ]
  },
  {
   "cell_type": "code",
   "execution_count": null,
   "id": "b357b192",
   "metadata": {},
   "outputs": [],
   "source": [
    "# Compare different fragmentation schemes\n",
    "schemes = [\n",
    "    (FragmentationScheme.ATOMIC, \"Atomic\"),\n",
    "    (FragmentationScheme.MOLECULAR, \"Molecular\"),\n",
    "    (FragmentationScheme.DISTANCE_BASED, \"Distance-based\"),\n",
    "    (FragmentationScheme.CUSTOM, \"Custom\")\n",
    "]\n",
    "\n",
    "print(\"Fragmentation Scheme Comparison:\")\n",
    "print(f\"{'Scheme':<15} {'Description':<30} {'Best for'}\")\n",
    "print(\"-\" * 70)\n",
    "\n",
    "descriptions = {\n",
    "    \"Atomic\": \"Each atom is a fragment\",\n",
    "    \"Molecular\": \"Connected components\",\n",
    "    \"Distance-based\": \"Spatial clustering\",\n",
    "    \"Custom\": \"User-defined fragments\"\n",
    "}\n",
    "\n",
    "best_for = {\n",
    "    \"Atomic\": \"Detailed analysis, small systems\",\n",
    "    \"Molecular\": \"Intermolecular interactions\", \n",
    "    \"Distance-based\": \"Large systems, efficiency\",\n",
    "    \"Custom\": \"Expert knowledge, special cases\"\n",
    "}\n",
    "\n",
    "for scheme, name in schemes:\n",
    "    print(f\"{name:<15} {descriptions[name]:<30} {best_for[name]}\")"
   ]
  },
  {
   "cell_type": "markdown",
   "id": "9fef6ccf",
   "metadata": {},
   "source": [
    "## 8. Utility Functions\n",
    "\n",
    "Demonstrate utility functions for combinatorics and fragment analysis."
   ]
  },
  {
   "cell_type": "code",
   "execution_count": null,
   "id": "97522b97",
   "metadata": {},
   "outputs": [],
   "source": [
    "# Combinatorial utilities\n",
    "print(\"Combinatorial Utilities:\")\n",
    "\n",
    "# Binomial coefficients\n",
    "for n in [5, 10, 20]:\n",
    "    for k in range(1, min(5, n+1)):\n",
    "        coeff = binomial_coefficient(n, k)\n",
    "        print(f\"C({n},{k}) = {coeff}\")\n",
    "    print()"
   ]
  },
  {
   "cell_type": "code",
   "execution_count": null,
   "id": "c6976960",
   "metadata": {},
   "outputs": [],
   "source": [
    "# Generate all combinations\n",
    "print(\"All 2-combinations from 5 items:\")\n",
    "combinations = generate_combinations(5, 2)\n",
    "for i, combo in enumerate(combinations):\n",
    "    print(f\"{i+1:2d}: {combo}\")\n",
    "\n",
    "print(f\"\\nTotal: {len(combinations)} combinations\")"
   ]
  },
  {
   "cell_type": "code",
   "execution_count": null,
   "id": "5e13588a",
   "metadata": {},
   "outputs": [],
   "source": [
    "# Test combination overlap\n",
    "test_combinations = [\n",
    "    ([0, 1, 2], [2, 3, 4]),  # Overlap at index 2\n",
    "    ([0, 1], [2, 3]),        # No overlap\n",
    "    ([1, 3, 5], [0, 2, 4])   # No overlap\n",
    "]\n",
    "\n",
    "print(\"Combination Overlap Testing:\")\n",
    "for combo1, combo2 in test_combinations:\n",
    "    overlap = combinations_overlap(combo1, combo2)\n",
    "    print(f\"{combo1} ∩ {combo2} = {overlap}\")"
   ]
  },
  {
   "cell_type": "markdown",
   "id": "c056bc8f",
   "metadata": {},
   "source": [
    "## Summary\n",
    "\n",
    "This notebook has demonstrated the key features of the libfrag MBE module:\n",
    "\n",
    "1. **Configuration Management**: Flexible setup of MBE calculations with multiple fragmentation schemes\n",
    "2. **Results Analysis**: Comprehensive energy decomposition and convergence analysis\n",
    "3. **Performance Monitoring**: Timing analysis and computational cost estimation\n",
    "4. **Export Capabilities**: Multiple output formats (JSON, CSV, reports)\n",
    "5. **Utility Functions**: Combinatorial tools and fragment manipulation\n",
    "\n",
    "The MBE module provides a complete framework for fragment-based quantum chemistry calculations, with hooks for integration with various QM software packages.\n",
    "\n",
    "**Next Steps**:\n",
    "- Implement QM calculator interfaces for specific software (PySCF, Gaussian, ORCA, etc.)\n",
    "- Add real molecular fragmentation algorithms\n",
    "- Optimize performance for large systems\n",
    "- Add visualization capabilities\n",
    "- Implement gradient and property calculations"
   ]
  }
 ],
 "metadata": {
  "language_info": {
   "name": "python"
  }
 },
 "nbformat": 4,
 "nbformat_minor": 5
}
